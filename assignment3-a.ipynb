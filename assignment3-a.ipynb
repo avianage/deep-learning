{
 "cells": [
  {
   "cell_type": "markdown",
   "id": "b6b03890",
   "metadata": {},
   "source": [
    "### Assignment 3: Convolutional neural network (CNN)\n",
    "1. Use any dataset of plant disease and design a plant disease detection system using CNN. "
   ]
  },
  {
   "cell_type": "code",
   "execution_count": 1,
   "id": "5e5d3a67",
   "metadata": {},
   "outputs": [],
   "source": [
    "import os\n",
    "import numpy as np\n",
    "import matplotlib.pyplot as plt\n",
    "from sklearn.model_selection import train_test_split\n",
    "from sklearn.preprocessing import LabelBinarizer\n",
    "from tensorflow.keras.preprocessing.image import load_img, img_to_array\n",
    "from tensorflow.keras.models import Sequential\n",
    "from tensorflow.keras.layers import Conv2D, MaxPooling2D, Flatten, Dense, Dropout\n",
    "from tensorflow.keras.utils import to_categorical"
   ]
  },
  {
   "cell_type": "code",
   "execution_count": 2,
   "id": "32b9fb10",
   "metadata": {},
   "outputs": [
    {
     "name": "stdout",
     "output_type": "stream",
     "text": [
      "Loading: Pepper__bell___Bacterial_spot\n",
      "Loading: Pepper__bell___healthy\n",
      "Loading: Potato___Early_blight\n",
      "Loading: Potato___healthy\n",
      "Loading: Potato___Late_blight\n",
      "Loading: Tomato_Bacterial_spot\n",
      "Loading: Tomato_Early_blight\n",
      "Loading: Tomato_healthy\n",
      "Loading: Tomato_Late_blight\n",
      "Loading: Tomato_Leaf_Mold\n",
      "Loading: Tomato_Septoria_leaf_spot\n",
      "Loading: Tomato_Spider_mites_Two_spotted_spider_mite\n",
      "Loading: Tomato__Target_Spot\n",
      "Loading: Tomato__Tomato_mosaic_virus\n",
      "Loading: Tomato__Tomato_YellowLeaf__Curl_Virus\n",
      "Skipped svn-r6Yb5c: cannot identify image file <_io.BytesIO object at 0x000001CE8B182360>\n"
     ]
    }
   ],
   "source": [
    "DATASET_PATH = \"plant-data/\"\n",
    "IMG_SIZE = 64\n",
    "\n",
    "data = []\n",
    "labels = []\n",
    "\n",
    "for category in os.listdir(DATASET_PATH):\n",
    "    category_path = os.path.join(DATASET_PATH,category)\n",
    "    if not os.path.isdir(category_path):\n",
    "        continue\n",
    "    print(f'Loading: {category}')\n",
    "    for image_file in os.listdir(category_path):\n",
    "        try:\n",
    "            img = load_img(os.path.join(category_path,image_file),target_size=(IMG_SIZE,IMG_SIZE))\n",
    "            img_array = img_to_array(img)/255.0\n",
    "            data.append(img_array)\n",
    "            labels.append(category)\n",
    "        except Exception as e:\n",
    "            print(f'Skipped {image_file}: {e}')"
   ]
  },
  {
   "cell_type": "code",
   "execution_count": 3,
   "id": "c04cc9b6",
   "metadata": {},
   "outputs": [
    {
     "data": {
      "text/plain": [
       "array([[[[0.6039216 , 0.54509807, 0.5568628 ],\n",
       "         [0.5294118 , 0.47058824, 0.48235294],\n",
       "         [0.49411765, 0.43529412, 0.44705883],\n",
       "         ...,\n",
       "         [0.6784314 , 0.6156863 , 0.61960787],\n",
       "         [0.6666667 , 0.6039216 , 0.60784316],\n",
       "         [0.63529414, 0.57254905, 0.5764706 ]],\n",
       "\n",
       "        [[0.4862745 , 0.42745098, 0.4392157 ],\n",
       "         [0.49019608, 0.43137255, 0.44313726],\n",
       "         [0.5019608 , 0.44313726, 0.45490196],\n",
       "         ...,\n",
       "         [0.7019608 , 0.6392157 , 0.6431373 ],\n",
       "         [0.68235296, 0.61960787, 0.62352943],\n",
       "         [0.68235296, 0.61960787, 0.62352943]],\n",
       "\n",
       "        [[0.5921569 , 0.53333336, 0.54509807],\n",
       "         [0.627451  , 0.5686275 , 0.5803922 ],\n",
       "         [0.42745098, 0.36862746, 0.38039216],\n",
       "         ...,\n",
       "         [0.6509804 , 0.5882353 , 0.5921569 ],\n",
       "         [0.60784316, 0.54509807, 0.54901963],\n",
       "         [0.65882355, 0.59607846, 0.6       ]],\n",
       "\n",
       "        ...,\n",
       "\n",
       "        [[0.7176471 , 0.6666667 , 0.69411767],\n",
       "         [0.6156863 , 0.5647059 , 0.5921569 ],\n",
       "         [0.7058824 , 0.654902  , 0.68235296],\n",
       "         ...,\n",
       "         [0.62352943, 0.57254905, 0.60784316],\n",
       "         [0.6431373 , 0.5921569 , 0.627451  ],\n",
       "         [0.63529414, 0.58431375, 0.61960787]],\n",
       "\n",
       "        [[0.6862745 , 0.63529414, 0.6627451 ],\n",
       "         [0.68235296, 0.6313726 , 0.65882355],\n",
       "         [0.627451  , 0.5764706 , 0.6039216 ],\n",
       "         ...,\n",
       "         [0.6392157 , 0.5882353 , 0.62352943],\n",
       "         [0.63529414, 0.58431375, 0.61960787],\n",
       "         [0.63529414, 0.58431375, 0.61960787]],\n",
       "\n",
       "        [[0.58431375, 0.53333336, 0.56078434],\n",
       "         [0.5764706 , 0.5254902 , 0.5529412 ],\n",
       "         [0.6745098 , 0.62352943, 0.6509804 ],\n",
       "         ...,\n",
       "         [0.63529414, 0.58431375, 0.61960787],\n",
       "         [0.68235296, 0.6313726 , 0.6666667 ],\n",
       "         [0.6745098 , 0.62352943, 0.65882355]]],\n",
       "\n",
       "\n",
       "       [[[0.5647059 , 0.50980395, 0.6       ],\n",
       "         [0.5411765 , 0.4862745 , 0.5764706 ],\n",
       "         [0.5568628 , 0.5019608 , 0.5921569 ],\n",
       "         ...,\n",
       "         [0.7058824 , 0.6745098 , 0.75686276],\n",
       "         [0.7372549 , 0.7058824 , 0.7882353 ],\n",
       "         [0.7411765 , 0.70980394, 0.7921569 ]],\n",
       "\n",
       "        [[0.6039216 , 0.5529412 , 0.6313726 ],\n",
       "         [0.49803922, 0.44705883, 0.5254902 ],\n",
       "         [0.60784316, 0.5568628 , 0.63529414],\n",
       "         ...,\n",
       "         [0.7411765 , 0.70980394, 0.7921569 ],\n",
       "         [0.7490196 , 0.7176471 , 0.8       ],\n",
       "         [0.7254902 , 0.69411767, 0.7764706 ]],\n",
       "\n",
       "        [[0.5568628 , 0.5058824 , 0.5764706 ],\n",
       "         [0.5254902 , 0.4745098 , 0.54509807],\n",
       "         [0.62352943, 0.57254905, 0.6431373 ],\n",
       "         ...,\n",
       "         [0.7372549 , 0.7058824 , 0.7882353 ],\n",
       "         [0.7176471 , 0.6862745 , 0.76862746],\n",
       "         [0.7254902 , 0.69411767, 0.7764706 ]],\n",
       "\n",
       "        ...,\n",
       "\n",
       "        [[0.5803922 , 0.49803922, 0.5647059 ],\n",
       "         [0.5294118 , 0.4392157 , 0.5411765 ],\n",
       "         [0.4862745 , 0.44313726, 0.45882353],\n",
       "         ...,\n",
       "         [0.53333336, 0.4745098 , 0.5568628 ],\n",
       "         [0.75686276, 0.69803923, 0.78039217],\n",
       "         [0.45490196, 0.39607844, 0.47843137]],\n",
       "\n",
       "        [[0.44313726, 0.3764706 , 0.4392157 ],\n",
       "         [0.54901963, 0.48235294, 0.5568628 ],\n",
       "         [0.05490196, 0.01176471, 0.02745098],\n",
       "         ...,\n",
       "         [0.56078434, 0.5019608 , 0.58431375],\n",
       "         [0.5019608 , 0.44313726, 0.5254902 ],\n",
       "         [0.5058824 , 0.44705883, 0.5294118 ]],\n",
       "\n",
       "        [[0.52156866, 0.49411765, 0.5568628 ],\n",
       "         [0.45490196, 0.40392157, 0.4392157 ],\n",
       "         [0.5647059 , 0.50980395, 0.56078434],\n",
       "         ...,\n",
       "         [0.5529412 , 0.49411765, 0.5764706 ],\n",
       "         [0.6156863 , 0.5568628 , 0.6392157 ],\n",
       "         [0.60784316, 0.54901963, 0.6313726 ]]],\n",
       "\n",
       "\n",
       "       [[[0.3137255 , 0.2627451 , 0.32941177],\n",
       "         [0.04313726, 0.03137255, 0.06666667],\n",
       "         [0.05882353, 0.0627451 , 0.07843138],\n",
       "         ...,\n",
       "         [0.5882353 , 0.5529412 , 0.627451  ],\n",
       "         [0.6039216 , 0.5686275 , 0.6431373 ],\n",
       "         [0.6509804 , 0.6156863 , 0.6901961 ]],\n",
       "\n",
       "        [[0.5411765 , 0.49019608, 0.5568628 ],\n",
       "         [0.05490196, 0.04313726, 0.07843138],\n",
       "         [0.05098039, 0.05490196, 0.07058824],\n",
       "         ...,\n",
       "         [0.47843137, 0.44313726, 0.5176471 ],\n",
       "         [0.61960787, 0.58431375, 0.65882355],\n",
       "         [0.68235296, 0.64705884, 0.72156864]],\n",
       "\n",
       "        [[0.5686275 , 0.5176471 , 0.58431375],\n",
       "         [0.0627451 , 0.05098039, 0.08627451],\n",
       "         [0.05098039, 0.05490196, 0.07058824],\n",
       "         ...,\n",
       "         [0.7294118 , 0.69411767, 0.76862746],\n",
       "         [0.78431374, 0.7490196 , 0.8235294 ],\n",
       "         [0.72156864, 0.6862745 , 0.7607843 ]],\n",
       "\n",
       "        ...,\n",
       "\n",
       "        [[0.6901961 , 0.6392157 , 0.7176471 ],\n",
       "         [0.69411767, 0.6431373 , 0.72156864],\n",
       "         [0.627451  , 0.5764706 , 0.654902  ],\n",
       "         ...,\n",
       "         [0.77254903, 0.7372549 , 0.8039216 ],\n",
       "         [0.76862746, 0.73333335, 0.8       ],\n",
       "         [0.76862746, 0.73333335, 0.8       ]],\n",
       "\n",
       "        [[0.65882355, 0.60784316, 0.6862745 ],\n",
       "         [0.6392157 , 0.5882353 , 0.6666667 ],\n",
       "         [0.63529414, 0.58431375, 0.6627451 ],\n",
       "         ...,\n",
       "         [0.77254903, 0.7372549 , 0.8039216 ],\n",
       "         [0.78039217, 0.74509805, 0.8117647 ],\n",
       "         [0.78039217, 0.74509805, 0.8117647 ]],\n",
       "\n",
       "        [[0.63529414, 0.58431375, 0.6627451 ],\n",
       "         [0.62352943, 0.57254905, 0.6509804 ],\n",
       "         [0.65882355, 0.60784316, 0.6862745 ],\n",
       "         ...,\n",
       "         [0.7607843 , 0.7254902 , 0.7921569 ],\n",
       "         [0.78039217, 0.74509805, 0.8117647 ],\n",
       "         [0.78039217, 0.74509805, 0.8117647 ]]],\n",
       "\n",
       "\n",
       "       ...,\n",
       "\n",
       "\n",
       "       [[[0.57254905, 0.5294118 , 0.54509807],\n",
       "         [0.57254905, 0.5294118 , 0.54509807],\n",
       "         [0.58431375, 0.5411765 , 0.5568628 ],\n",
       "         ...,\n",
       "         [0.44705883, 0.4       , 0.4       ],\n",
       "         [0.49411765, 0.44705883, 0.44705883],\n",
       "         [0.45490196, 0.40784314, 0.40784314]],\n",
       "\n",
       "        [[0.6117647 , 0.5686275 , 0.58431375],\n",
       "         [0.5764706 , 0.53333336, 0.54901963],\n",
       "         [0.5882353 , 0.54509807, 0.56078434],\n",
       "         ...,\n",
       "         [0.45882353, 0.4117647 , 0.4117647 ],\n",
       "         [0.46666667, 0.41960785, 0.41960785],\n",
       "         [0.44705883, 0.4       , 0.4       ]],\n",
       "\n",
       "        [[0.56078434, 0.5176471 , 0.53333336],\n",
       "         [0.5647059 , 0.52156866, 0.5372549 ],\n",
       "         [0.5647059 , 0.52156866, 0.5372549 ],\n",
       "         ...,\n",
       "         [0.4627451 , 0.41568628, 0.41568628],\n",
       "         [0.4       , 0.3529412 , 0.3529412 ],\n",
       "         [0.42745098, 0.38039216, 0.38039216]],\n",
       "\n",
       "        ...,\n",
       "\n",
       "        [[0.6039216 , 0.5568628 , 0.57254905],\n",
       "         [0.5764706 , 0.5294118 , 0.54509807],\n",
       "         [0.5882353 , 0.5411765 , 0.5568628 ],\n",
       "         ...,\n",
       "         [0.48235294, 0.42745098, 0.42352942],\n",
       "         [0.4392157 , 0.38431373, 0.38039216],\n",
       "         [0.43529412, 0.38039216, 0.3764706 ]],\n",
       "\n",
       "        [[0.5764706 , 0.5294118 , 0.54509807],\n",
       "         [0.61960787, 0.57254905, 0.5882353 ],\n",
       "         [0.6156863 , 0.5686275 , 0.58431375],\n",
       "         ...,\n",
       "         [0.41960785, 0.3647059 , 0.36078432],\n",
       "         [0.36862746, 0.3137255 , 0.30980393],\n",
       "         [0.32156864, 0.26666668, 0.2627451 ]],\n",
       "\n",
       "        [[0.61960787, 0.57254905, 0.5882353 ],\n",
       "         [0.5882353 , 0.5411765 , 0.5568628 ],\n",
       "         [0.50980395, 0.4627451 , 0.47843137],\n",
       "         ...,\n",
       "         [0.48235294, 0.42745098, 0.42352942],\n",
       "         [0.44705883, 0.39215687, 0.3882353 ],\n",
       "         [0.44313726, 0.3882353 , 0.38431373]]],\n",
       "\n",
       "\n",
       "       [[[0.52156866, 0.5294118 , 0.5254902 ],\n",
       "         [0.5411765 , 0.54901963, 0.54509807],\n",
       "         [0.5176471 , 0.5254902 , 0.52156866],\n",
       "         ...,\n",
       "         [0.53333336, 0.53333336, 0.53333336],\n",
       "         [0.52156866, 0.52156866, 0.52156866],\n",
       "         [0.50980395, 0.50980395, 0.50980395]],\n",
       "\n",
       "        [[0.5019608 , 0.50980395, 0.5058824 ],\n",
       "         [0.5254902 , 0.53333336, 0.5294118 ],\n",
       "         [0.50980395, 0.5176471 , 0.5137255 ],\n",
       "         ...,\n",
       "         [0.50980395, 0.50980395, 0.50980395],\n",
       "         [0.5176471 , 0.5176471 , 0.5176471 ],\n",
       "         [0.5137255 , 0.5137255 , 0.5137255 ]],\n",
       "\n",
       "        [[0.5137255 , 0.52156866, 0.5176471 ],\n",
       "         [0.5176471 , 0.5254902 , 0.52156866],\n",
       "         [0.50980395, 0.5176471 , 0.5137255 ],\n",
       "         ...,\n",
       "         [0.5137255 , 0.5137255 , 0.5137255 ],\n",
       "         [0.5019608 , 0.5019608 , 0.5019608 ],\n",
       "         [0.53333336, 0.53333336, 0.53333336]],\n",
       "\n",
       "        ...,\n",
       "\n",
       "        [[0.5019608 , 0.5058824 , 0.5137255 ],\n",
       "         [0.4862745 , 0.49019608, 0.49803922],\n",
       "         [0.47843137, 0.48235294, 0.49019608],\n",
       "         ...,\n",
       "         [0.4117647 , 0.4117647 , 0.4117647 ],\n",
       "         [0.40392157, 0.40392157, 0.40392157],\n",
       "         [0.4       , 0.4       , 0.4       ]],\n",
       "\n",
       "        [[0.4862745 , 0.49019608, 0.49803922],\n",
       "         [0.47058824, 0.4745098 , 0.48235294],\n",
       "         [0.49411765, 0.49803922, 0.5058824 ],\n",
       "         ...,\n",
       "         [0.40784314, 0.40784314, 0.40784314],\n",
       "         [0.40784314, 0.40784314, 0.40784314],\n",
       "         [0.41568628, 0.41568628, 0.41568628]],\n",
       "\n",
       "        [[0.4627451 , 0.46666667, 0.4745098 ],\n",
       "         [0.47843137, 0.48235294, 0.49019608],\n",
       "         [0.4627451 , 0.46666667, 0.4745098 ],\n",
       "         ...,\n",
       "         [0.41960785, 0.41960785, 0.41960785],\n",
       "         [0.42352942, 0.42352942, 0.42352942],\n",
       "         [0.42352942, 0.42352942, 0.42352942]]],\n",
       "\n",
       "\n",
       "       [[[0.3019608 , 0.3019608 , 0.30980393],\n",
       "         [0.30588236, 0.30588236, 0.3137255 ],\n",
       "         [0.32941177, 0.32941177, 0.3372549 ],\n",
       "         ...,\n",
       "         [0.3372549 , 0.34117648, 0.34901962],\n",
       "         [0.36078432, 0.3647059 , 0.37254903],\n",
       "         [0.39607844, 0.4       , 0.40784314]],\n",
       "\n",
       "        [[0.3137255 , 0.3137255 , 0.32156864],\n",
       "         [0.31764707, 0.31764707, 0.3254902 ],\n",
       "         [0.31764707, 0.31764707, 0.3254902 ],\n",
       "         ...,\n",
       "         [0.36078432, 0.3647059 , 0.37254903],\n",
       "         [0.3529412 , 0.35686275, 0.3647059 ],\n",
       "         [0.40392157, 0.40784314, 0.41568628]],\n",
       "\n",
       "        [[0.3372549 , 0.3372549 , 0.34509805],\n",
       "         [0.3137255 , 0.3137255 , 0.32156864],\n",
       "         [0.32156864, 0.32156864, 0.32941177],\n",
       "         ...,\n",
       "         [0.38431373, 0.3882353 , 0.39607844],\n",
       "         [0.38431373, 0.3882353 , 0.39607844],\n",
       "         [0.38039216, 0.38431373, 0.39215687]],\n",
       "\n",
       "        ...,\n",
       "\n",
       "        [[0.5568628 , 0.5647059 , 0.54509807],\n",
       "         [0.5686275 , 0.5764706 , 0.5568628 ],\n",
       "         [0.5647059 , 0.57254905, 0.5529412 ],\n",
       "         ...,\n",
       "         [0.63529414, 0.654902  , 0.6392157 ],\n",
       "         [0.6313726 , 0.64705884, 0.6431373 ],\n",
       "         [0.5921569 , 0.60784316, 0.6039216 ]],\n",
       "\n",
       "        [[0.56078434, 0.5686275 , 0.54901963],\n",
       "         [0.5803922 , 0.5882353 , 0.5686275 ],\n",
       "         [0.57254905, 0.5803922 , 0.56078434],\n",
       "         ...,\n",
       "         [0.6313726 , 0.6509804 , 0.63529414],\n",
       "         [0.6156863 , 0.6313726 , 0.627451  ],\n",
       "         [0.59607846, 0.6117647 , 0.60784316]],\n",
       "\n",
       "        [[0.5686275 , 0.5764706 , 0.5568628 ],\n",
       "         [0.5803922 , 0.5882353 , 0.5686275 ],\n",
       "         [0.5686275 , 0.5764706 , 0.5568628 ],\n",
       "         ...,\n",
       "         [0.60784316, 0.627451  , 0.6117647 ],\n",
       "         [0.59607846, 0.6117647 , 0.60784316],\n",
       "         [0.6       , 0.6156863 , 0.6117647 ]]]], dtype=float32)"
      ]
     },
     "execution_count": 3,
     "metadata": {},
     "output_type": "execute_result"
    }
   ],
   "source": [
    "data = np.array(data)\n",
    "data\n"
   ]
  },
  {
   "cell_type": "code",
   "execution_count": 4,
   "id": "9e9e37db",
   "metadata": {},
   "outputs": [
    {
     "data": {
      "text/plain": [
       "array(['Pepper__bell___Bacterial_spot', 'Pepper__bell___Bacterial_spot',\n",
       "       'Pepper__bell___Bacterial_spot', ...,\n",
       "       'Tomato__Tomato_YellowLeaf__Curl_Virus',\n",
       "       'Tomato__Tomato_YellowLeaf__Curl_Virus',\n",
       "       'Tomato__Tomato_YellowLeaf__Curl_Virus'], dtype='<U43')"
      ]
     },
     "execution_count": 4,
     "metadata": {},
     "output_type": "execute_result"
    }
   ],
   "source": [
    "labels = np.array(labels)\n",
    "labels\n"
   ]
  },
  {
   "cell_type": "code",
   "execution_count": 5,
   "id": "447b2537",
   "metadata": {},
   "outputs": [
    {
     "name": "stdout",
     "output_type": "stream",
     "text": [
      "classes found: ['Pepper__bell___Bacterial_spot' 'Pepper__bell___healthy'\n",
      " 'Potato___Early_blight' 'Potato___Late_blight' 'Potato___healthy'\n",
      " 'Tomato_Bacterial_spot' 'Tomato_Early_blight' 'Tomato_Late_blight'\n",
      " 'Tomato_Leaf_Mold' 'Tomato_Septoria_leaf_spot'\n",
      " 'Tomato_Spider_mites_Two_spotted_spider_mite' 'Tomato__Target_Spot'\n",
      " 'Tomato__Tomato_YellowLeaf__Curl_Virus' 'Tomato__Tomato_mosaic_virus'\n",
      " 'Tomato_healthy']\n"
     ]
    }
   ],
   "source": [
    "lb = LabelBinarizer()\n",
    "labels_encoded = lb.fit_transform(labels)\n",
    "X_train,X_test,y_train,y_test = train_test_split(data,labels_encoded,test_size=0.2,random_state=42)\n",
    "\n",
    "print(f\"classes found: {lb.classes_}\")"
   ]
  },
  {
   "cell_type": "code",
   "execution_count": 6,
   "id": "0ba15a69",
   "metadata": {},
   "outputs": [
    {
     "name": "stderr",
     "output_type": "stream",
     "text": [
      "d:\\Programming\\College\\BE\\LP5\\DL\\.venv\\lib\\site-packages\\keras\\src\\layers\\convolutional\\base_conv.py:107: UserWarning: Do not pass an `input_shape`/`input_dim` argument to a layer. When using Sequential models, prefer using an `Input(shape)` object as the first layer in the model instead.\n",
      "  super().__init__(activity_regularizer=activity_regularizer, **kwargs)\n"
     ]
    }
   ],
   "source": [
    "model = Sequential()\n",
    "\n",
    "model.add(Conv2D(32,(3,3),activation='relu',input_shape=(IMG_SIZE,IMG_SIZE,3)))\n",
    "model.add(MaxPooling2D(pool_size=(2,2)))\n",
    "model.add(Flatten())\n",
    "model.add(Dense(128,activation='relu'))\n",
    "model.add(Dropout(0.5))\n",
    "model.add(Dense(len(lb.classes_),activation='softmax'))\n"
   ]
  },
  {
   "cell_type": "code",
   "execution_count": 7,
   "id": "ae816022",
   "metadata": {},
   "outputs": [
    {
     "data": {
      "text/html": [
       "<pre style=\"white-space:pre;overflow-x:auto;line-height:normal;font-family:Menlo,'DejaVu Sans Mono',consolas,'Courier New',monospace\"><span style=\"font-weight: bold\">Model: \"sequential\"</span>\n",
       "</pre>\n"
      ],
      "text/plain": [
       "\u001b[1mModel: \"sequential\"\u001b[0m\n"
      ]
     },
     "metadata": {},
     "output_type": "display_data"
    },
    {
     "data": {
      "text/html": [
       "<pre style=\"white-space:pre;overflow-x:auto;line-height:normal;font-family:Menlo,'DejaVu Sans Mono',consolas,'Courier New',monospace\">┏━━━━━━━━━━━━━━━━━━━━━━━━━━━━━━━━━┳━━━━━━━━━━━━━━━━━━━━━━━━┳━━━━━━━━━━━━━━━┓\n",
       "┃<span style=\"font-weight: bold\"> Layer (type)                    </span>┃<span style=\"font-weight: bold\"> Output Shape           </span>┃<span style=\"font-weight: bold\">       Param # </span>┃\n",
       "┡━━━━━━━━━━━━━━━━━━━━━━━━━━━━━━━━━╇━━━━━━━━━━━━━━━━━━━━━━━━╇━━━━━━━━━━━━━━━┩\n",
       "│ conv2d (<span style=\"color: #0087ff; text-decoration-color: #0087ff\">Conv2D</span>)                 │ (<span style=\"color: #00d7ff; text-decoration-color: #00d7ff\">None</span>, <span style=\"color: #00af00; text-decoration-color: #00af00\">62</span>, <span style=\"color: #00af00; text-decoration-color: #00af00\">62</span>, <span style=\"color: #00af00; text-decoration-color: #00af00\">32</span>)     │           <span style=\"color: #00af00; text-decoration-color: #00af00\">896</span> │\n",
       "├─────────────────────────────────┼────────────────────────┼───────────────┤\n",
       "│ max_pooling2d (<span style=\"color: #0087ff; text-decoration-color: #0087ff\">MaxPooling2D</span>)    │ (<span style=\"color: #00d7ff; text-decoration-color: #00d7ff\">None</span>, <span style=\"color: #00af00; text-decoration-color: #00af00\">31</span>, <span style=\"color: #00af00; text-decoration-color: #00af00\">31</span>, <span style=\"color: #00af00; text-decoration-color: #00af00\">32</span>)     │             <span style=\"color: #00af00; text-decoration-color: #00af00\">0</span> │\n",
       "├─────────────────────────────────┼────────────────────────┼───────────────┤\n",
       "│ flatten (<span style=\"color: #0087ff; text-decoration-color: #0087ff\">Flatten</span>)               │ (<span style=\"color: #00d7ff; text-decoration-color: #00d7ff\">None</span>, <span style=\"color: #00af00; text-decoration-color: #00af00\">30752</span>)          │             <span style=\"color: #00af00; text-decoration-color: #00af00\">0</span> │\n",
       "├─────────────────────────────────┼────────────────────────┼───────────────┤\n",
       "│ dense (<span style=\"color: #0087ff; text-decoration-color: #0087ff\">Dense</span>)                   │ (<span style=\"color: #00d7ff; text-decoration-color: #00d7ff\">None</span>, <span style=\"color: #00af00; text-decoration-color: #00af00\">128</span>)            │     <span style=\"color: #00af00; text-decoration-color: #00af00\">3,936,384</span> │\n",
       "├─────────────────────────────────┼────────────────────────┼───────────────┤\n",
       "│ dropout (<span style=\"color: #0087ff; text-decoration-color: #0087ff\">Dropout</span>)               │ (<span style=\"color: #00d7ff; text-decoration-color: #00d7ff\">None</span>, <span style=\"color: #00af00; text-decoration-color: #00af00\">128</span>)            │             <span style=\"color: #00af00; text-decoration-color: #00af00\">0</span> │\n",
       "├─────────────────────────────────┼────────────────────────┼───────────────┤\n",
       "│ dense_1 (<span style=\"color: #0087ff; text-decoration-color: #0087ff\">Dense</span>)                 │ (<span style=\"color: #00d7ff; text-decoration-color: #00d7ff\">None</span>, <span style=\"color: #00af00; text-decoration-color: #00af00\">15</span>)             │         <span style=\"color: #00af00; text-decoration-color: #00af00\">1,935</span> │\n",
       "└─────────────────────────────────┴────────────────────────┴───────────────┘\n",
       "</pre>\n"
      ],
      "text/plain": [
       "┏━━━━━━━━━━━━━━━━━━━━━━━━━━━━━━━━━┳━━━━━━━━━━━━━━━━━━━━━━━━┳━━━━━━━━━━━━━━━┓\n",
       "┃\u001b[1m \u001b[0m\u001b[1mLayer (type)                   \u001b[0m\u001b[1m \u001b[0m┃\u001b[1m \u001b[0m\u001b[1mOutput Shape          \u001b[0m\u001b[1m \u001b[0m┃\u001b[1m \u001b[0m\u001b[1m      Param #\u001b[0m\u001b[1m \u001b[0m┃\n",
       "┡━━━━━━━━━━━━━━━━━━━━━━━━━━━━━━━━━╇━━━━━━━━━━━━━━━━━━━━━━━━╇━━━━━━━━━━━━━━━┩\n",
       "│ conv2d (\u001b[38;5;33mConv2D\u001b[0m)                 │ (\u001b[38;5;45mNone\u001b[0m, \u001b[38;5;34m62\u001b[0m, \u001b[38;5;34m62\u001b[0m, \u001b[38;5;34m32\u001b[0m)     │           \u001b[38;5;34m896\u001b[0m │\n",
       "├─────────────────────────────────┼────────────────────────┼───────────────┤\n",
       "│ max_pooling2d (\u001b[38;5;33mMaxPooling2D\u001b[0m)    │ (\u001b[38;5;45mNone\u001b[0m, \u001b[38;5;34m31\u001b[0m, \u001b[38;5;34m31\u001b[0m, \u001b[38;5;34m32\u001b[0m)     │             \u001b[38;5;34m0\u001b[0m │\n",
       "├─────────────────────────────────┼────────────────────────┼───────────────┤\n",
       "│ flatten (\u001b[38;5;33mFlatten\u001b[0m)               │ (\u001b[38;5;45mNone\u001b[0m, \u001b[38;5;34m30752\u001b[0m)          │             \u001b[38;5;34m0\u001b[0m │\n",
       "├─────────────────────────────────┼────────────────────────┼───────────────┤\n",
       "│ dense (\u001b[38;5;33mDense\u001b[0m)                   │ (\u001b[38;5;45mNone\u001b[0m, \u001b[38;5;34m128\u001b[0m)            │     \u001b[38;5;34m3,936,384\u001b[0m │\n",
       "├─────────────────────────────────┼────────────────────────┼───────────────┤\n",
       "│ dropout (\u001b[38;5;33mDropout\u001b[0m)               │ (\u001b[38;5;45mNone\u001b[0m, \u001b[38;5;34m128\u001b[0m)            │             \u001b[38;5;34m0\u001b[0m │\n",
       "├─────────────────────────────────┼────────────────────────┼───────────────┤\n",
       "│ dense_1 (\u001b[38;5;33mDense\u001b[0m)                 │ (\u001b[38;5;45mNone\u001b[0m, \u001b[38;5;34m15\u001b[0m)             │         \u001b[38;5;34m1,935\u001b[0m │\n",
       "└─────────────────────────────────┴────────────────────────┴───────────────┘\n"
      ]
     },
     "metadata": {},
     "output_type": "display_data"
    },
    {
     "data": {
      "text/html": [
       "<pre style=\"white-space:pre;overflow-x:auto;line-height:normal;font-family:Menlo,'DejaVu Sans Mono',consolas,'Courier New',monospace\"><span style=\"font-weight: bold\"> Total params: </span><span style=\"color: #00af00; text-decoration-color: #00af00\">3,939,215</span> (15.03 MB)\n",
       "</pre>\n"
      ],
      "text/plain": [
       "\u001b[1m Total params: \u001b[0m\u001b[38;5;34m3,939,215\u001b[0m (15.03 MB)\n"
      ]
     },
     "metadata": {},
     "output_type": "display_data"
    },
    {
     "data": {
      "text/html": [
       "<pre style=\"white-space:pre;overflow-x:auto;line-height:normal;font-family:Menlo,'DejaVu Sans Mono',consolas,'Courier New',monospace\"><span style=\"font-weight: bold\"> Trainable params: </span><span style=\"color: #00af00; text-decoration-color: #00af00\">3,939,215</span> (15.03 MB)\n",
       "</pre>\n"
      ],
      "text/plain": [
       "\u001b[1m Trainable params: \u001b[0m\u001b[38;5;34m3,939,215\u001b[0m (15.03 MB)\n"
      ]
     },
     "metadata": {},
     "output_type": "display_data"
    },
    {
     "data": {
      "text/html": [
       "<pre style=\"white-space:pre;overflow-x:auto;line-height:normal;font-family:Menlo,'DejaVu Sans Mono',consolas,'Courier New',monospace\"><span style=\"font-weight: bold\"> Non-trainable params: </span><span style=\"color: #00af00; text-decoration-color: #00af00\">0</span> (0.00 B)\n",
       "</pre>\n"
      ],
      "text/plain": [
       "\u001b[1m Non-trainable params: \u001b[0m\u001b[38;5;34m0\u001b[0m (0.00 B)\n"
      ]
     },
     "metadata": {},
     "output_type": "display_data"
    }
   ],
   "source": [
    "model.summary()\n"
   ]
  },
  {
   "cell_type": "code",
   "execution_count": 8,
   "id": "fa1c01ee",
   "metadata": {},
   "outputs": [],
   "source": [
    "model.compile(optimizer='adam',loss='categorical_crossentropy',metrics=['accuracy'])\n"
   ]
  },
  {
   "cell_type": "code",
   "execution_count": 9,
   "id": "82ebf06c",
   "metadata": {},
   "outputs": [
    {
     "data": {
      "text/html": [
       "<pre style=\"white-space:pre;overflow-x:auto;line-height:normal;font-family:Menlo,'DejaVu Sans Mono',consolas,'Courier New',monospace\"><span style=\"font-weight: bold\">Model: \"sequential\"</span>\n",
       "</pre>\n"
      ],
      "text/plain": [
       "\u001b[1mModel: \"sequential\"\u001b[0m\n"
      ]
     },
     "metadata": {},
     "output_type": "display_data"
    },
    {
     "data": {
      "text/html": [
       "<pre style=\"white-space:pre;overflow-x:auto;line-height:normal;font-family:Menlo,'DejaVu Sans Mono',consolas,'Courier New',monospace\">┏━━━━━━━━━━━━━━━━━━━━━━━━━━━━━━━━━┳━━━━━━━━━━━━━━━━━━━━━━━━┳━━━━━━━━━━━━━━━┓\n",
       "┃<span style=\"font-weight: bold\"> Layer (type)                    </span>┃<span style=\"font-weight: bold\"> Output Shape           </span>┃<span style=\"font-weight: bold\">       Param # </span>┃\n",
       "┡━━━━━━━━━━━━━━━━━━━━━━━━━━━━━━━━━╇━━━━━━━━━━━━━━━━━━━━━━━━╇━━━━━━━━━━━━━━━┩\n",
       "│ conv2d (<span style=\"color: #0087ff; text-decoration-color: #0087ff\">Conv2D</span>)                 │ (<span style=\"color: #00d7ff; text-decoration-color: #00d7ff\">None</span>, <span style=\"color: #00af00; text-decoration-color: #00af00\">62</span>, <span style=\"color: #00af00; text-decoration-color: #00af00\">62</span>, <span style=\"color: #00af00; text-decoration-color: #00af00\">32</span>)     │           <span style=\"color: #00af00; text-decoration-color: #00af00\">896</span> │\n",
       "├─────────────────────────────────┼────────────────────────┼───────────────┤\n",
       "│ max_pooling2d (<span style=\"color: #0087ff; text-decoration-color: #0087ff\">MaxPooling2D</span>)    │ (<span style=\"color: #00d7ff; text-decoration-color: #00d7ff\">None</span>, <span style=\"color: #00af00; text-decoration-color: #00af00\">31</span>, <span style=\"color: #00af00; text-decoration-color: #00af00\">31</span>, <span style=\"color: #00af00; text-decoration-color: #00af00\">32</span>)     │             <span style=\"color: #00af00; text-decoration-color: #00af00\">0</span> │\n",
       "├─────────────────────────────────┼────────────────────────┼───────────────┤\n",
       "│ flatten (<span style=\"color: #0087ff; text-decoration-color: #0087ff\">Flatten</span>)               │ (<span style=\"color: #00d7ff; text-decoration-color: #00d7ff\">None</span>, <span style=\"color: #00af00; text-decoration-color: #00af00\">30752</span>)          │             <span style=\"color: #00af00; text-decoration-color: #00af00\">0</span> │\n",
       "├─────────────────────────────────┼────────────────────────┼───────────────┤\n",
       "│ dense (<span style=\"color: #0087ff; text-decoration-color: #0087ff\">Dense</span>)                   │ (<span style=\"color: #00d7ff; text-decoration-color: #00d7ff\">None</span>, <span style=\"color: #00af00; text-decoration-color: #00af00\">128</span>)            │     <span style=\"color: #00af00; text-decoration-color: #00af00\">3,936,384</span> │\n",
       "├─────────────────────────────────┼────────────────────────┼───────────────┤\n",
       "│ dropout (<span style=\"color: #0087ff; text-decoration-color: #0087ff\">Dropout</span>)               │ (<span style=\"color: #00d7ff; text-decoration-color: #00d7ff\">None</span>, <span style=\"color: #00af00; text-decoration-color: #00af00\">128</span>)            │             <span style=\"color: #00af00; text-decoration-color: #00af00\">0</span> │\n",
       "├─────────────────────────────────┼────────────────────────┼───────────────┤\n",
       "│ dense_1 (<span style=\"color: #0087ff; text-decoration-color: #0087ff\">Dense</span>)                 │ (<span style=\"color: #00d7ff; text-decoration-color: #00d7ff\">None</span>, <span style=\"color: #00af00; text-decoration-color: #00af00\">15</span>)             │         <span style=\"color: #00af00; text-decoration-color: #00af00\">1,935</span> │\n",
       "└─────────────────────────────────┴────────────────────────┴───────────────┘\n",
       "</pre>\n"
      ],
      "text/plain": [
       "┏━━━━━━━━━━━━━━━━━━━━━━━━━━━━━━━━━┳━━━━━━━━━━━━━━━━━━━━━━━━┳━━━━━━━━━━━━━━━┓\n",
       "┃\u001b[1m \u001b[0m\u001b[1mLayer (type)                   \u001b[0m\u001b[1m \u001b[0m┃\u001b[1m \u001b[0m\u001b[1mOutput Shape          \u001b[0m\u001b[1m \u001b[0m┃\u001b[1m \u001b[0m\u001b[1m      Param #\u001b[0m\u001b[1m \u001b[0m┃\n",
       "┡━━━━━━━━━━━━━━━━━━━━━━━━━━━━━━━━━╇━━━━━━━━━━━━━━━━━━━━━━━━╇━━━━━━━━━━━━━━━┩\n",
       "│ conv2d (\u001b[38;5;33mConv2D\u001b[0m)                 │ (\u001b[38;5;45mNone\u001b[0m, \u001b[38;5;34m62\u001b[0m, \u001b[38;5;34m62\u001b[0m, \u001b[38;5;34m32\u001b[0m)     │           \u001b[38;5;34m896\u001b[0m │\n",
       "├─────────────────────────────────┼────────────────────────┼───────────────┤\n",
       "│ max_pooling2d (\u001b[38;5;33mMaxPooling2D\u001b[0m)    │ (\u001b[38;5;45mNone\u001b[0m, \u001b[38;5;34m31\u001b[0m, \u001b[38;5;34m31\u001b[0m, \u001b[38;5;34m32\u001b[0m)     │             \u001b[38;5;34m0\u001b[0m │\n",
       "├─────────────────────────────────┼────────────────────────┼───────────────┤\n",
       "│ flatten (\u001b[38;5;33mFlatten\u001b[0m)               │ (\u001b[38;5;45mNone\u001b[0m, \u001b[38;5;34m30752\u001b[0m)          │             \u001b[38;5;34m0\u001b[0m │\n",
       "├─────────────────────────────────┼────────────────────────┼───────────────┤\n",
       "│ dense (\u001b[38;5;33mDense\u001b[0m)                   │ (\u001b[38;5;45mNone\u001b[0m, \u001b[38;5;34m128\u001b[0m)            │     \u001b[38;5;34m3,936,384\u001b[0m │\n",
       "├─────────────────────────────────┼────────────────────────┼───────────────┤\n",
       "│ dropout (\u001b[38;5;33mDropout\u001b[0m)               │ (\u001b[38;5;45mNone\u001b[0m, \u001b[38;5;34m128\u001b[0m)            │             \u001b[38;5;34m0\u001b[0m │\n",
       "├─────────────────────────────────┼────────────────────────┼───────────────┤\n",
       "│ dense_1 (\u001b[38;5;33mDense\u001b[0m)                 │ (\u001b[38;5;45mNone\u001b[0m, \u001b[38;5;34m15\u001b[0m)             │         \u001b[38;5;34m1,935\u001b[0m │\n",
       "└─────────────────────────────────┴────────────────────────┴───────────────┘\n"
      ]
     },
     "metadata": {},
     "output_type": "display_data"
    },
    {
     "data": {
      "text/html": [
       "<pre style=\"white-space:pre;overflow-x:auto;line-height:normal;font-family:Menlo,'DejaVu Sans Mono',consolas,'Courier New',monospace\"><span style=\"font-weight: bold\"> Total params: </span><span style=\"color: #00af00; text-decoration-color: #00af00\">3,939,215</span> (15.03 MB)\n",
       "</pre>\n"
      ],
      "text/plain": [
       "\u001b[1m Total params: \u001b[0m\u001b[38;5;34m3,939,215\u001b[0m (15.03 MB)\n"
      ]
     },
     "metadata": {},
     "output_type": "display_data"
    },
    {
     "data": {
      "text/html": [
       "<pre style=\"white-space:pre;overflow-x:auto;line-height:normal;font-family:Menlo,'DejaVu Sans Mono',consolas,'Courier New',monospace\"><span style=\"font-weight: bold\"> Trainable params: </span><span style=\"color: #00af00; text-decoration-color: #00af00\">3,939,215</span> (15.03 MB)\n",
       "</pre>\n"
      ],
      "text/plain": [
       "\u001b[1m Trainable params: \u001b[0m\u001b[38;5;34m3,939,215\u001b[0m (15.03 MB)\n"
      ]
     },
     "metadata": {},
     "output_type": "display_data"
    },
    {
     "data": {
      "text/html": [
       "<pre style=\"white-space:pre;overflow-x:auto;line-height:normal;font-family:Menlo,'DejaVu Sans Mono',consolas,'Courier New',monospace\"><span style=\"font-weight: bold\"> Non-trainable params: </span><span style=\"color: #00af00; text-decoration-color: #00af00\">0</span> (0.00 B)\n",
       "</pre>\n"
      ],
      "text/plain": [
       "\u001b[1m Non-trainable params: \u001b[0m\u001b[38;5;34m0\u001b[0m (0.00 B)\n"
      ]
     },
     "metadata": {},
     "output_type": "display_data"
    }
   ],
   "source": [
    "model.summary()"
   ]
  },
  {
   "cell_type": "code",
   "execution_count": 10,
   "id": "ff8de695",
   "metadata": {},
   "outputs": [
    {
     "name": "stdout",
     "output_type": "stream",
     "text": [
      "Epoch 1/10\n",
      "\u001b[1m516/516\u001b[0m \u001b[32m━━━━━━━━━━━━━━━━━━━━\u001b[0m\u001b[37m\u001b[0m \u001b[1m21s\u001b[0m 40ms/step - accuracy: 0.2203 - loss: 2.4382 - val_accuracy: 0.6156 - val_loss: 1.2604\n",
      "Epoch 2/10\n",
      "\u001b[1m516/516\u001b[0m \u001b[32m━━━━━━━━━━━━━━━━━━━━\u001b[0m\u001b[37m\u001b[0m \u001b[1m21s\u001b[0m 40ms/step - accuracy: 0.4683 - loss: 1.5641 - val_accuracy: 0.6914 - val_loss: 1.0579\n",
      "Epoch 3/10\n",
      "\u001b[1m516/516\u001b[0m \u001b[32m━━━━━━━━━━━━━━━━━━━━\u001b[0m\u001b[37m\u001b[0m \u001b[1m21s\u001b[0m 40ms/step - accuracy: 0.5484 - loss: 1.3190 - val_accuracy: 0.7376 - val_loss: 0.9240\n",
      "Epoch 4/10\n",
      "\u001b[1m516/516\u001b[0m \u001b[32m━━━━━━━━━━━━━━━━━━━━\u001b[0m\u001b[37m\u001b[0m \u001b[1m20s\u001b[0m 40ms/step - accuracy: 0.5876 - loss: 1.2041 - val_accuracy: 0.7435 - val_loss: 0.8098\n",
      "Epoch 5/10\n",
      "\u001b[1m516/516\u001b[0m \u001b[32m━━━━━━━━━━━━━━━━━━━━\u001b[0m\u001b[37m\u001b[0m \u001b[1m20s\u001b[0m 40ms/step - accuracy: 0.6328 - loss: 1.0727 - val_accuracy: 0.7565 - val_loss: 0.7269\n",
      "Epoch 6/10\n",
      "\u001b[1m516/516\u001b[0m \u001b[32m━━━━━━━━━━━━━━━━━━━━\u001b[0m\u001b[37m\u001b[0m \u001b[1m20s\u001b[0m 39ms/step - accuracy: 0.6457 - loss: 1.0090 - val_accuracy: 0.7779 - val_loss: 0.6887\n",
      "Epoch 7/10\n",
      "\u001b[1m516/516\u001b[0m \u001b[32m━━━━━━━━━━━━━━━━━━━━\u001b[0m\u001b[37m\u001b[0m \u001b[1m20s\u001b[0m 39ms/step - accuracy: 0.6658 - loss: 0.9394 - val_accuracy: 0.8047 - val_loss: 0.6503\n",
      "Epoch 8/10\n",
      "\u001b[1m516/516\u001b[0m \u001b[32m━━━━━━━━━━━━━━━━━━━━\u001b[0m\u001b[37m\u001b[0m \u001b[1m21s\u001b[0m 40ms/step - accuracy: 0.6793 - loss: 0.9028 - val_accuracy: 0.7946 - val_loss: 0.6639\n",
      "Epoch 9/10\n",
      "\u001b[1m516/516\u001b[0m \u001b[32m━━━━━━━━━━━━━━━━━━━━\u001b[0m\u001b[37m\u001b[0m \u001b[1m21s\u001b[0m 41ms/step - accuracy: 0.6941 - loss: 0.8406 - val_accuracy: 0.7791 - val_loss: 0.6958\n",
      "Epoch 10/10\n",
      "\u001b[1m516/516\u001b[0m \u001b[32m━━━━━━━━━━━━━━━━━━━━\u001b[0m\u001b[37m\u001b[0m \u001b[1m21s\u001b[0m 40ms/step - accuracy: 0.7149 - loss: 0.8018 - val_accuracy: 0.7963 - val_loss: 0.6296\n"
     ]
    }
   ],
   "source": [
    "history = model.fit(X_train,y_train,epochs=10,batch_size=32,validation_data=(X_test,y_test),verbose=1)"
   ]
  },
  {
   "cell_type": "code",
   "execution_count": 11,
   "id": "75855169",
   "metadata": {},
   "outputs": [
    {
     "name": "stdout",
     "output_type": "stream",
     "text": [
      "\u001b[1m129/129\u001b[0m \u001b[32m━━━━━━━━━━━━━━━━━━━━\u001b[0m\u001b[37m\u001b[0m \u001b[1m1s\u001b[0m 6ms/step - accuracy: 0.7956 - loss: 0.6270\n",
      "Test acc: 0.7963\n"
     ]
    }
   ],
   "source": [
    "loss, acc = model.evaluate(X_test,y_test)\n",
    "print(f'Test acc: {acc:.4f}')\n"
   ]
  }
 ],
 "metadata": {
  "kernelspec": {
   "display_name": ".venv",
   "language": "python",
   "name": "python3"
  },
  "language_info": {
   "codemirror_mode": {
    "name": "ipython",
    "version": 3
   },
   "file_extension": ".py",
   "mimetype": "text/x-python",
   "name": "python",
   "nbconvert_exporter": "python",
   "pygments_lexer": "ipython3",
   "version": "3.9.13"
  }
 },
 "nbformat": 4,
 "nbformat_minor": 5
}
